{
  "nbformat": 4,
  "nbformat_minor": 0,
  "metadata": {
    "colab": {
      "provenance": [],
      "gpuType": "T4"
    },
    "kernelspec": {
      "name": "python3",
      "display_name": "Python 3"
    },
    "language_info": {
      "name": "python"
    },
    "accelerator": "GPU"
  },
  "cells": [
    {
      "cell_type": "markdown",
      "source": [
        "# **Import necessary packages and dataset from google drive**"
      ],
      "metadata": {
        "id": "ZYQxts3mjMCM"
      }
    },
    {
      "cell_type": "code",
      "execution_count": 258,
      "metadata": {
        "colab": {
          "base_uri": "https://localhost:8080/"
        },
        "id": "1ArESzp_afs3",
        "outputId": "960a035b-8585-4c17-f8b8-017b696211c7"
      },
      "outputs": [
        {
          "output_type": "stream",
          "name": "stdout",
          "text": [
            "Drive already mounted at /content/drive; to attempt to forcibly remount, call drive.mount(\"/content/drive\", force_remount=True).\n"
          ]
        }
      ],
      "source": [
        "import seaborn as sns\n",
        "import matplotlib.pyplot as plt\n",
        "import pandas as pd\n",
        "import numpy as np\n",
        "from sklearn.model_selection import train_test_split, cross_val_score, cross_val_predict\n",
        "from sklearn.linear_model import SGDClassifier\n",
        "from sklearn.tree import DecisionTreeClassifier\n",
        "from sklearn.naive_bayes import GaussianNB\n",
        "from sklearn.ensemble import RandomForestClassifier, StackingClassifier, AdaBoostClassifier, BaggingClassifier\n",
        "from sklearn.svm import SVC\n",
        "from sklearn.feature_selection import RFE\n",
        "from sklearn.metrics import accuracy_score, classification_report, confusion_matrix\n",
        "from google.colab import drive\n",
        "drive.mount('/content/drive')"
      ]
    },
    {
      "cell_type": "markdown",
      "source": [
        "# **Initialize Dataset**"
      ],
      "metadata": {
        "id": "MACasnmxjaRz"
      }
    },
    {
      "cell_type": "code",
      "source": [
        "letreg_df = pd.DataFrame(pd.read_csv('/content/drive/MyDrive/Datasets2/maternal.csv'))\n",
        "letreg_df.head()\n",
        "letreg_df.info()\n",
        "letreg_df.shape\n",
        "letreg_df.describe()"
      ],
      "metadata": {
        "colab": {
          "base_uri": "https://localhost:8080/",
          "height": 543
        },
        "id": "4gcPTbXrdX_M",
        "outputId": "548a064d-af25-4054-dbc3-5cd4e5471821"
      },
      "execution_count": 259,
      "outputs": [
        {
          "output_type": "stream",
          "name": "stdout",
          "text": [
            "<class 'pandas.core.frame.DataFrame'>\n",
            "RangeIndex: 1014 entries, 0 to 1013\n",
            "Data columns (total 7 columns):\n",
            " #   Column       Non-Null Count  Dtype  \n",
            "---  ------       --------------  -----  \n",
            " 0   Age          1014 non-null   int64  \n",
            " 1   SystolicBP   1014 non-null   int64  \n",
            " 2   DiastolicBP  1014 non-null   int64  \n",
            " 3   BS           1014 non-null   float64\n",
            " 4   BodyTemp     1014 non-null   float64\n",
            " 5   HeartRate    1014 non-null   int64  \n",
            " 6   RiskLevel    1014 non-null   int64  \n",
            "dtypes: float64(2), int64(5)\n",
            "memory usage: 55.6 KB\n"
          ]
        },
        {
          "output_type": "execute_result",
          "data": {
            "text/plain": [
              "               Age   SystolicBP  DiastolicBP           BS     BodyTemp  \\\n",
              "count  1014.000000  1014.000000  1014.000000  1014.000000  1014.000000   \n",
              "mean     29.871795   113.198225    76.460552     8.725986    98.665089   \n",
              "std      13.474386    18.403913    13.885796     3.293532     1.371384   \n",
              "min      10.000000    70.000000    49.000000     6.000000    98.000000   \n",
              "25%      19.000000   100.000000    65.000000     6.900000    98.000000   \n",
              "50%      26.000000   120.000000    80.000000     7.500000    98.000000   \n",
              "75%      39.000000   120.000000    90.000000     8.000000    98.000000   \n",
              "max      70.000000   160.000000   100.000000    19.000000   103.000000   \n",
              "\n",
              "         HeartRate    RiskLevel  \n",
              "count  1014.000000  1014.000000  \n",
              "mean     74.301775     0.867850  \n",
              "std       8.088702     0.807353  \n",
              "min       7.000000     0.000000  \n",
              "25%      70.000000     0.000000  \n",
              "50%      76.000000     1.000000  \n",
              "75%      80.000000     2.000000  \n",
              "max      90.000000     2.000000  "
            ],
            "text/html": [
              "\n",
              "  <div id=\"df-954dbd8e-650d-418f-8ed9-a239251ba603\" class=\"colab-df-container\">\n",
              "    <div>\n",
              "<style scoped>\n",
              "    .dataframe tbody tr th:only-of-type {\n",
              "        vertical-align: middle;\n",
              "    }\n",
              "\n",
              "    .dataframe tbody tr th {\n",
              "        vertical-align: top;\n",
              "    }\n",
              "\n",
              "    .dataframe thead th {\n",
              "        text-align: right;\n",
              "    }\n",
              "</style>\n",
              "<table border=\"1\" class=\"dataframe\">\n",
              "  <thead>\n",
              "    <tr style=\"text-align: right;\">\n",
              "      <th></th>\n",
              "      <th>Age</th>\n",
              "      <th>SystolicBP</th>\n",
              "      <th>DiastolicBP</th>\n",
              "      <th>BS</th>\n",
              "      <th>BodyTemp</th>\n",
              "      <th>HeartRate</th>\n",
              "      <th>RiskLevel</th>\n",
              "    </tr>\n",
              "  </thead>\n",
              "  <tbody>\n",
              "    <tr>\n",
              "      <th>count</th>\n",
              "      <td>1014.000000</td>\n",
              "      <td>1014.000000</td>\n",
              "      <td>1014.000000</td>\n",
              "      <td>1014.000000</td>\n",
              "      <td>1014.000000</td>\n",
              "      <td>1014.000000</td>\n",
              "      <td>1014.000000</td>\n",
              "    </tr>\n",
              "    <tr>\n",
              "      <th>mean</th>\n",
              "      <td>29.871795</td>\n",
              "      <td>113.198225</td>\n",
              "      <td>76.460552</td>\n",
              "      <td>8.725986</td>\n",
              "      <td>98.665089</td>\n",
              "      <td>74.301775</td>\n",
              "      <td>0.867850</td>\n",
              "    </tr>\n",
              "    <tr>\n",
              "      <th>std</th>\n",
              "      <td>13.474386</td>\n",
              "      <td>18.403913</td>\n",
              "      <td>13.885796</td>\n",
              "      <td>3.293532</td>\n",
              "      <td>1.371384</td>\n",
              "      <td>8.088702</td>\n",
              "      <td>0.807353</td>\n",
              "    </tr>\n",
              "    <tr>\n",
              "      <th>min</th>\n",
              "      <td>10.000000</td>\n",
              "      <td>70.000000</td>\n",
              "      <td>49.000000</td>\n",
              "      <td>6.000000</td>\n",
              "      <td>98.000000</td>\n",
              "      <td>7.000000</td>\n",
              "      <td>0.000000</td>\n",
              "    </tr>\n",
              "    <tr>\n",
              "      <th>25%</th>\n",
              "      <td>19.000000</td>\n",
              "      <td>100.000000</td>\n",
              "      <td>65.000000</td>\n",
              "      <td>6.900000</td>\n",
              "      <td>98.000000</td>\n",
              "      <td>70.000000</td>\n",
              "      <td>0.000000</td>\n",
              "    </tr>\n",
              "    <tr>\n",
              "      <th>50%</th>\n",
              "      <td>26.000000</td>\n",
              "      <td>120.000000</td>\n",
              "      <td>80.000000</td>\n",
              "      <td>7.500000</td>\n",
              "      <td>98.000000</td>\n",
              "      <td>76.000000</td>\n",
              "      <td>1.000000</td>\n",
              "    </tr>\n",
              "    <tr>\n",
              "      <th>75%</th>\n",
              "      <td>39.000000</td>\n",
              "      <td>120.000000</td>\n",
              "      <td>90.000000</td>\n",
              "      <td>8.000000</td>\n",
              "      <td>98.000000</td>\n",
              "      <td>80.000000</td>\n",
              "      <td>2.000000</td>\n",
              "    </tr>\n",
              "    <tr>\n",
              "      <th>max</th>\n",
              "      <td>70.000000</td>\n",
              "      <td>160.000000</td>\n",
              "      <td>100.000000</td>\n",
              "      <td>19.000000</td>\n",
              "      <td>103.000000</td>\n",
              "      <td>90.000000</td>\n",
              "      <td>2.000000</td>\n",
              "    </tr>\n",
              "  </tbody>\n",
              "</table>\n",
              "</div>\n",
              "    <div class=\"colab-df-buttons\">\n",
              "\n",
              "  <div class=\"colab-df-container\">\n",
              "    <button class=\"colab-df-convert\" onclick=\"convertToInteractive('df-954dbd8e-650d-418f-8ed9-a239251ba603')\"\n",
              "            title=\"Convert this dataframe to an interactive table.\"\n",
              "            style=\"display:none;\">\n",
              "\n",
              "  <svg xmlns=\"http://www.w3.org/2000/svg\" height=\"24px\" viewBox=\"0 -960 960 960\">\n",
              "    <path d=\"M120-120v-720h720v720H120Zm60-500h600v-160H180v160Zm220 220h160v-160H400v160Zm0 220h160v-160H400v160ZM180-400h160v-160H180v160Zm440 0h160v-160H620v160ZM180-180h160v-160H180v160Zm440 0h160v-160H620v160Z\"/>\n",
              "  </svg>\n",
              "    </button>\n",
              "\n",
              "  <style>\n",
              "    .colab-df-container {\n",
              "      display:flex;\n",
              "      gap: 12px;\n",
              "    }\n",
              "\n",
              "    .colab-df-convert {\n",
              "      background-color: #E8F0FE;\n",
              "      border: none;\n",
              "      border-radius: 50%;\n",
              "      cursor: pointer;\n",
              "      display: none;\n",
              "      fill: #1967D2;\n",
              "      height: 32px;\n",
              "      padding: 0 0 0 0;\n",
              "      width: 32px;\n",
              "    }\n",
              "\n",
              "    .colab-df-convert:hover {\n",
              "      background-color: #E2EBFA;\n",
              "      box-shadow: 0px 1px 2px rgba(60, 64, 67, 0.3), 0px 1px 3px 1px rgba(60, 64, 67, 0.15);\n",
              "      fill: #174EA6;\n",
              "    }\n",
              "\n",
              "    .colab-df-buttons div {\n",
              "      margin-bottom: 4px;\n",
              "    }\n",
              "\n",
              "    [theme=dark] .colab-df-convert {\n",
              "      background-color: #3B4455;\n",
              "      fill: #D2E3FC;\n",
              "    }\n",
              "\n",
              "    [theme=dark] .colab-df-convert:hover {\n",
              "      background-color: #434B5C;\n",
              "      box-shadow: 0px 1px 3px 1px rgba(0, 0, 0, 0.15);\n",
              "      filter: drop-shadow(0px 1px 2px rgba(0, 0, 0, 0.3));\n",
              "      fill: #FFFFFF;\n",
              "    }\n",
              "  </style>\n",
              "\n",
              "    <script>\n",
              "      const buttonEl =\n",
              "        document.querySelector('#df-954dbd8e-650d-418f-8ed9-a239251ba603 button.colab-df-convert');\n",
              "      buttonEl.style.display =\n",
              "        google.colab.kernel.accessAllowed ? 'block' : 'none';\n",
              "\n",
              "      async function convertToInteractive(key) {\n",
              "        const element = document.querySelector('#df-954dbd8e-650d-418f-8ed9-a239251ba603');\n",
              "        const dataTable =\n",
              "          await google.colab.kernel.invokeFunction('convertToInteractive',\n",
              "                                                    [key], {});\n",
              "        if (!dataTable) return;\n",
              "\n",
              "        const docLinkHtml = 'Like what you see? Visit the ' +\n",
              "          '<a target=\"_blank\" href=https://colab.research.google.com/notebooks/data_table.ipynb>data table notebook</a>'\n",
              "          + ' to learn more about interactive tables.';\n",
              "        element.innerHTML = '';\n",
              "        dataTable['output_type'] = 'display_data';\n",
              "        await google.colab.output.renderOutput(dataTable, element);\n",
              "        const docLink = document.createElement('div');\n",
              "        docLink.innerHTML = docLinkHtml;\n",
              "        element.appendChild(docLink);\n",
              "      }\n",
              "    </script>\n",
              "  </div>\n",
              "\n",
              "\n",
              "<div id=\"df-4bff0dcc-9376-4f04-9cd1-6d24df5f8444\">\n",
              "  <button class=\"colab-df-quickchart\" onclick=\"quickchart('df-4bff0dcc-9376-4f04-9cd1-6d24df5f8444')\"\n",
              "            title=\"Suggest charts\"\n",
              "            style=\"display:none;\">\n",
              "\n",
              "<svg xmlns=\"http://www.w3.org/2000/svg\" height=\"24px\"viewBox=\"0 0 24 24\"\n",
              "     width=\"24px\">\n",
              "    <g>\n",
              "        <path d=\"M19 3H5c-1.1 0-2 .9-2 2v14c0 1.1.9 2 2 2h14c1.1 0 2-.9 2-2V5c0-1.1-.9-2-2-2zM9 17H7v-7h2v7zm4 0h-2V7h2v10zm4 0h-2v-4h2v4z\"/>\n",
              "    </g>\n",
              "</svg>\n",
              "  </button>\n",
              "\n",
              "<style>\n",
              "  .colab-df-quickchart {\n",
              "      --bg-color: #E8F0FE;\n",
              "      --fill-color: #1967D2;\n",
              "      --hover-bg-color: #E2EBFA;\n",
              "      --hover-fill-color: #174EA6;\n",
              "      --disabled-fill-color: #AAA;\n",
              "      --disabled-bg-color: #DDD;\n",
              "  }\n",
              "\n",
              "  [theme=dark] .colab-df-quickchart {\n",
              "      --bg-color: #3B4455;\n",
              "      --fill-color: #D2E3FC;\n",
              "      --hover-bg-color: #434B5C;\n",
              "      --hover-fill-color: #FFFFFF;\n",
              "      --disabled-bg-color: #3B4455;\n",
              "      --disabled-fill-color: #666;\n",
              "  }\n",
              "\n",
              "  .colab-df-quickchart {\n",
              "    background-color: var(--bg-color);\n",
              "    border: none;\n",
              "    border-radius: 50%;\n",
              "    cursor: pointer;\n",
              "    display: none;\n",
              "    fill: var(--fill-color);\n",
              "    height: 32px;\n",
              "    padding: 0;\n",
              "    width: 32px;\n",
              "  }\n",
              "\n",
              "  .colab-df-quickchart:hover {\n",
              "    background-color: var(--hover-bg-color);\n",
              "    box-shadow: 0 1px 2px rgba(60, 64, 67, 0.3), 0 1px 3px 1px rgba(60, 64, 67, 0.15);\n",
              "    fill: var(--button-hover-fill-color);\n",
              "  }\n",
              "\n",
              "  .colab-df-quickchart-complete:disabled,\n",
              "  .colab-df-quickchart-complete:disabled:hover {\n",
              "    background-color: var(--disabled-bg-color);\n",
              "    fill: var(--disabled-fill-color);\n",
              "    box-shadow: none;\n",
              "  }\n",
              "\n",
              "  .colab-df-spinner {\n",
              "    border: 2px solid var(--fill-color);\n",
              "    border-color: transparent;\n",
              "    border-bottom-color: var(--fill-color);\n",
              "    animation:\n",
              "      spin 1s steps(1) infinite;\n",
              "  }\n",
              "\n",
              "  @keyframes spin {\n",
              "    0% {\n",
              "      border-color: transparent;\n",
              "      border-bottom-color: var(--fill-color);\n",
              "      border-left-color: var(--fill-color);\n",
              "    }\n",
              "    20% {\n",
              "      border-color: transparent;\n",
              "      border-left-color: var(--fill-color);\n",
              "      border-top-color: var(--fill-color);\n",
              "    }\n",
              "    30% {\n",
              "      border-color: transparent;\n",
              "      border-left-color: var(--fill-color);\n",
              "      border-top-color: var(--fill-color);\n",
              "      border-right-color: var(--fill-color);\n",
              "    }\n",
              "    40% {\n",
              "      border-color: transparent;\n",
              "      border-right-color: var(--fill-color);\n",
              "      border-top-color: var(--fill-color);\n",
              "    }\n",
              "    60% {\n",
              "      border-color: transparent;\n",
              "      border-right-color: var(--fill-color);\n",
              "    }\n",
              "    80% {\n",
              "      border-color: transparent;\n",
              "      border-right-color: var(--fill-color);\n",
              "      border-bottom-color: var(--fill-color);\n",
              "    }\n",
              "    90% {\n",
              "      border-color: transparent;\n",
              "      border-bottom-color: var(--fill-color);\n",
              "    }\n",
              "  }\n",
              "</style>\n",
              "\n",
              "  <script>\n",
              "    async function quickchart(key) {\n",
              "      const quickchartButtonEl =\n",
              "        document.querySelector('#' + key + ' button');\n",
              "      quickchartButtonEl.disabled = true;  // To prevent multiple clicks.\n",
              "      quickchartButtonEl.classList.add('colab-df-spinner');\n",
              "      try {\n",
              "        const charts = await google.colab.kernel.invokeFunction(\n",
              "            'suggestCharts', [key], {});\n",
              "      } catch (error) {\n",
              "        console.error('Error during call to suggestCharts:', error);\n",
              "      }\n",
              "      quickchartButtonEl.classList.remove('colab-df-spinner');\n",
              "      quickchartButtonEl.classList.add('colab-df-quickchart-complete');\n",
              "    }\n",
              "    (() => {\n",
              "      let quickchartButtonEl =\n",
              "        document.querySelector('#df-4bff0dcc-9376-4f04-9cd1-6d24df5f8444 button');\n",
              "      quickchartButtonEl.style.display =\n",
              "        google.colab.kernel.accessAllowed ? 'block' : 'none';\n",
              "    })();\n",
              "  </script>\n",
              "</div>\n",
              "    </div>\n",
              "  </div>\n"
            ],
            "application/vnd.google.colaboratory.intrinsic+json": {
              "type": "dataframe",
              "summary": "{\n  \"name\": \"letreg_df\",\n  \"rows\": 8,\n  \"fields\": [\n    {\n      \"column\": \"Age\",\n      \"properties\": {\n        \"dtype\": \"number\",\n        \"std\": 348.54126044861886,\n        \"min\": 10.0,\n        \"max\": 1014.0,\n        \"num_unique_values\": 8,\n        \"samples\": [\n          29.871794871794872,\n          26.0,\n          1014.0\n        ],\n        \"semantic_type\": \"\",\n        \"description\": \"\"\n      }\n    },\n    {\n      \"column\": \"SystolicBP\",\n      \"properties\": {\n        \"dtype\": \"number\",\n        \"std\": 325.7381080591285,\n        \"min\": 18.403912756342706,\n        \"max\": 1014.0,\n        \"num_unique_values\": 7,\n        \"samples\": [\n          1014.0,\n          113.19822485207101,\n          120.0\n        ],\n        \"semantic_type\": \"\",\n        \"description\": \"\"\n      }\n    },\n    {\n      \"column\": \"DiastolicBP\",\n      \"properties\": {\n        \"dtype\": \"number\",\n        \"std\": 335.61546340338174,\n        \"min\": 13.885795724160687,\n        \"max\": 1014.0,\n        \"num_unique_values\": 8,\n        \"samples\": [\n          76.46055226824457,\n          80.0,\n          1014.0\n        ],\n        \"semantic_type\": \"\",\n        \"description\": \"\"\n      }\n    },\n    {\n      \"column\": \"BS\",\n      \"properties\": {\n        \"dtype\": \"number\",\n        \"std\": 355.5316275877343,\n        \"min\": 3.293531721151281,\n        \"max\": 1014.0,\n        \"num_unique_values\": 8,\n        \"samples\": [\n          8.725986193293886,\n          7.5,\n          1014.0\n        ],\n        \"semantic_type\": \"\",\n        \"description\": \"\"\n      }\n    },\n    {\n      \"column\": \"BodyTemp\",\n      \"properties\": {\n        \"dtype\": \"number\",\n        \"std\": 330.2234922746751,\n        \"min\": 1.3713843755995376,\n        \"max\": 1014.0,\n        \"num_unique_values\": 5,\n        \"samples\": [\n          98.66508875739645,\n          103.0,\n          1.3713843755995376\n        ],\n        \"semantic_type\": \"\",\n        \"description\": \"\"\n      }\n    },\n    {\n      \"column\": \"HeartRate\",\n      \"properties\": {\n        \"dtype\": \"number\",\n        \"std\": 339.57400097574833,\n        \"min\": 7.0,\n        \"max\": 1014.0,\n        \"num_unique_values\": 8,\n        \"samples\": [\n          74.30177514792899,\n          76.0,\n          1014.0\n        ],\n        \"semantic_type\": \"\",\n        \"description\": \"\"\n      }\n    },\n    {\n      \"column\": \"RiskLevel\",\n      \"properties\": {\n        \"dtype\": \"number\",\n        \"std\": 358.1667950027731,\n        \"min\": 0.0,\n        \"max\": 1014.0,\n        \"num_unique_values\": 6,\n        \"samples\": [\n          1014.0,\n          0.8678500986193294,\n          2.0\n        ],\n        \"semantic_type\": \"\",\n        \"description\": \"\"\n      }\n    }\n  ]\n}"
            }
          },
          "metadata": {},
          "execution_count": 259
        }
      ]
    },
    {
      "cell_type": "markdown",
      "source": [
        "# **Duplicate the dataset, as a safety, and remove null values**"
      ],
      "metadata": {
        "id": "FFYDe5GJkimV"
      }
    },
    {
      "cell_type": "code",
      "source": [
        "letreg_dup = letreg_df.copy()\n",
        "letreg_dup.info()\n",
        "letreg_dup.head()\n",
        "letreg_dup.shape\n",
        "letreg_dup.describe()\n",
        "\n",
        "#Dataset size\n",
        "initial_rows, initial_cols = letreg_dup.shape\n",
        "\n",
        "print(\"Percentage of Null Values of dataset Features:\")\n",
        "round(100*(letreg_dup.isnull().sum()/len(letreg_dup)), 2).sort_values(ascending=False)"
      ],
      "metadata": {
        "colab": {
          "base_uri": "https://localhost:8080/"
        },
        "id": "1dKRcTFJfDKS",
        "outputId": "415f3cf3-4c48-49db-ffd1-7ab6f7b1d2f3"
      },
      "execution_count": 260,
      "outputs": [
        {
          "output_type": "stream",
          "name": "stdout",
          "text": [
            "<class 'pandas.core.frame.DataFrame'>\n",
            "RangeIndex: 1014 entries, 0 to 1013\n",
            "Data columns (total 7 columns):\n",
            " #   Column       Non-Null Count  Dtype  \n",
            "---  ------       --------------  -----  \n",
            " 0   Age          1014 non-null   int64  \n",
            " 1   SystolicBP   1014 non-null   int64  \n",
            " 2   DiastolicBP  1014 non-null   int64  \n",
            " 3   BS           1014 non-null   float64\n",
            " 4   BodyTemp     1014 non-null   float64\n",
            " 5   HeartRate    1014 non-null   int64  \n",
            " 6   RiskLevel    1014 non-null   int64  \n",
            "dtypes: float64(2), int64(5)\n",
            "memory usage: 55.6 KB\n",
            "Percentage of Null Values of dataset Features:\n"
          ]
        },
        {
          "output_type": "execute_result",
          "data": {
            "text/plain": [
              "Age            0.0\n",
              "SystolicBP     0.0\n",
              "DiastolicBP    0.0\n",
              "BS             0.0\n",
              "BodyTemp       0.0\n",
              "HeartRate      0.0\n",
              "RiskLevel      0.0\n",
              "dtype: float64"
            ]
          },
          "metadata": {},
          "execution_count": 260
        }
      ]
    },
    {
      "cell_type": "markdown",
      "source": [
        "# **Remove duplicates and view updated dataset**"
      ],
      "metadata": {
        "id": "tQOCd9VpkpqF"
      }
    },
    {
      "cell_type": "code",
      "source": [
        "letreg_dup.drop_duplicates(subset = None, inplace = True)\n",
        "print(letreg_dup.shape)\n",
        "print(letreg_df.shape)\n",
        "\n",
        "updated_rows, updated_cols = letreg_dup.shape\n",
        "print(\"\\nDataset Information After Cleaning:\")\n",
        "print(letreg_dup.info())\n",
        "\n",
        "# Display summary statistics of the dataset after cleaning\n",
        "print(\"\\nSummary Statistics After Cleaning:\")\n",
        "print(letreg_dup.describe())\n",
        "\n",
        "# Summary of cleaning process\n",
        "print(\"\\nCleaning Summary:\")\n",
        "print(f\"Initial Dataset Size: {initial_rows} rows, {initial_cols} columns\")\n",
        "print(f\"Updated Dataset Size: {updated_rows} rows, {updated_cols} columns\")\n",
        "print(f\"Rows Removed: {initial_rows - updated_rows}\")\n",
        "print(f\"Columns Removed: {initial_cols - updated_cols}\")"
      ],
      "metadata": {
        "colab": {
          "base_uri": "https://localhost:8080/"
        },
        "id": "icL4pjDgf3zO",
        "outputId": "b0565476-2035-4a95-cf90-baf30fe9e6e6"
      },
      "execution_count": 261,
      "outputs": [
        {
          "output_type": "stream",
          "name": "stdout",
          "text": [
            "(452, 7)\n",
            "(1014, 7)\n",
            "\n",
            "Dataset Information After Cleaning:\n",
            "<class 'pandas.core.frame.DataFrame'>\n",
            "Index: 452 entries, 0 to 705\n",
            "Data columns (total 7 columns):\n",
            " #   Column       Non-Null Count  Dtype  \n",
            "---  ------       --------------  -----  \n",
            " 0   Age          452 non-null    int64  \n",
            " 1   SystolicBP   452 non-null    int64  \n",
            " 2   DiastolicBP  452 non-null    int64  \n",
            " 3   BS           452 non-null    float64\n",
            " 4   BodyTemp     452 non-null    float64\n",
            " 5   HeartRate    452 non-null    int64  \n",
            " 6   RiskLevel    452 non-null    int64  \n",
            "dtypes: float64(2), int64(5)\n",
            "memory usage: 28.2 KB\n",
            "None\n",
            "\n",
            "Summary Statistics After Cleaning:\n",
            "              Age  SystolicBP  DiastolicBP          BS    BodyTemp  \\\n",
            "count  452.000000  452.000000   452.000000  452.000000  452.000000   \n",
            "mean    29.194690  110.553097    75.418142    8.346173   98.692478   \n",
            "std     13.767379   17.872282    13.754578    2.829209    1.410897   \n",
            "min     10.000000   70.000000    49.000000    6.000000   98.000000   \n",
            "25%     19.000000   90.000000    65.000000    6.900000   98.000000   \n",
            "50%     25.000000  120.000000    80.000000    7.500000   98.000000   \n",
            "75%     35.000000  120.000000    86.000000    7.900000   98.000000   \n",
            "max     70.000000  160.000000   100.000000   19.000000  103.000000   \n",
            "\n",
            "        HeartRate   RiskLevel  \n",
            "count  452.000000  452.000000  \n",
            "mean    73.949115    0.730088  \n",
            "std      8.156973    0.833169  \n",
            "min      7.000000    0.000000  \n",
            "25%     70.000000    0.000000  \n",
            "50%     76.000000    0.000000  \n",
            "75%     80.000000    1.000000  \n",
            "max     90.000000    2.000000  \n",
            "\n",
            "Cleaning Summary:\n",
            "Initial Dataset Size: 1014 rows, 7 columns\n",
            "Updated Dataset Size: 452 rows, 7 columns\n",
            "Rows Removed: 562\n",
            "Columns Removed: 0\n"
          ]
        }
      ]
    },
    {
      "cell_type": "markdown",
      "source": [
        "# **Models to use**"
      ],
      "metadata": {
        "id": "hfARXwAboYzh"
      }
    },
    {
      "cell_type": "code",
      "source": [
        "models = {\n",
        "    \"Naive Bayes\": GaussianNB(),\n",
        "    \"Decision Tree\": DecisionTreeClassifier(random_state=42),\n",
        "    \"Random Forest\": RandomForestClassifier(random_state=42),\n",
        "    \"Support Vector Machine\": SVC(random_state=42),\n",
        "    \"SGD Classifier\": SGDClassifier(random_state=42)\n",
        "}"
      ],
      "metadata": {
        "id": "jWp2IQB3oXiL"
      },
      "execution_count": 262,
      "outputs": []
    },
    {
      "cell_type": "markdown",
      "source": [
        "# **Models with all features**"
      ],
      "metadata": {
        "id": "TMr_SNGSo2im"
      }
    },
    {
      "cell_type": "code",
      "source": [
        "X = letreg_dup[['Age', 'SystolicBP', 'DiastolicBP', 'BS', 'BodyTemp', 'HeartRate']]\n",
        "y = letreg_dup['RiskLevel']\n",
        "# Split the data into training and testing sets\n",
        "X_train, X_test, y_train, y_test = train_test_split(X, y, test_size=0.2, random_state=42)\n",
        "\n",
        "# Plot correlation heatmap for all features\n",
        "plt.figure(figsize=(15, 10))\n",
        "sns.heatmap(X.corr(), annot = True, cmap=\"RdBu\")\n",
        "plt.title('Correlation Heatmap of All Features')\n",
        "plt.show()\n",
        "\n",
        "# Train and evaluate models with all features\n",
        "results_all_features = {}\n",
        "for name, model in models.items():\n",
        "    model.fit(X_train, y_train)\n",
        "    predictions = model.predict(X_test)\n",
        "    accuracy = accuracy_score(y_test, predictions)\n",
        "    results_all_features[name] = accuracy\n",
        "\n",
        "# Print scores before RFE\n",
        "print(\"Scores with all features and without any added techniques:\")\n",
        "for name, accuracy in results_all_features.items():\n",
        "    print(f\"{name}: {accuracy*100:.2f}%\")"
      ],
      "metadata": {
        "colab": {
          "base_uri": "https://localhost:8080/",
          "height": 957
        },
        "id": "CG8882H9i6tJ",
        "outputId": "f902fa7b-45e6-4a16-9c3e-ce14be13afcf"
      },
      "execution_count": 263,
      "outputs": [
        {
          "output_type": "display_data",
          "data": {
            "text/plain": [
              "<Figure size 1500x1000 with 2 Axes>"
            ],
            "image/png": "[encoded data removed]"
          },
          "metadata": {}
        },
        {
          "output_type": "stream",
          "name": "stdout",
          "text": [
            "Scores with all features and without any added techniques:\n",
            "Naive Bayes: 63.74%\n",
            "Decision Tree: 68.13%\n",
            "Random Forest: 64.84%\n",
            "Support Vector Machine: 61.54%\n",
            "SGD Classifier: 57.14%\n"
          ]
        }
      ]
    },
    {
      "cell_type": "markdown",
      "source": [
        "# **Models with selected features**"
      ],
      "metadata": {
        "id": "x-LKtCjJo9Mo"
      }
    },
    {
      "cell_type": "code",
      "source": [
        "X_selected = letreg_dup[['Age', 'SystolicBP', 'DiastolicBP', 'BS']]\n",
        "y_selected = letreg_dup['RiskLevel']\n",
        "# Split the data into training and testing sets\n",
        "X_train_st, X_test_st, y_train_st, y_test_st = train_test_split(X_selected, y_selected, test_size=0.2, random_state=42)\n",
        "\n",
        "# Plot correlation heatmap for selected features\n",
        "plt.figure(figsize=(15, 10))\n",
        "sns.heatmap(X_selected.corr(), annot=True, cmap='RdBu')\n",
        "plt.title('Correlation Heatmap of RFE Selected Features')\n",
        "plt.show()\n",
        "\n",
        "# Train and evaluate models with all features\n",
        "results_selected_features = {}\n",
        "for name, model in models.items():\n",
        "    model.fit(X_train_st, y_train_st)\n",
        "    predictions = model.predict(X_test_st)\n",
        "    accuracy = accuracy_score(y_test_st, predictions)\n",
        "    results_selected_features[name] = accuracy\n",
        "\n",
        "# Print scores before RFE\n",
        "print(\"Scores with selected features and without any added techniques:\")\n",
        "for name, accuracy in results_selected_features.items():\n",
        "    print(f\"{name}: {accuracy*100:.2f}%\")"
      ],
      "metadata": {
        "id": "w9jUXxWumHW1",
        "colab": {
          "base_uri": "https://localhost:8080/",
          "height": 957
        },
        "outputId": "6c8fc1b6-2478-4df9-8052-e964d1038700"
      },
      "execution_count": 264,
      "outputs": [
        {
          "output_type": "display_data",
          "data": {
            "text/plain": [
              "<Figure size 1500x1000 with 2 Axes>"
            ],
            "image/png": "[encoded data removed]"
          },
          "metadata": {}
        },
        {
          "output_type": "stream",
          "name": "stdout",
          "text": [
            "Scores with selected features and without any added techniques:\n",
            "Naive Bayes: 64.84%\n",
            "Decision Tree: 62.64%\n",
            "Random Forest: 67.03%\n",
            "Support Vector Machine: 60.44%\n",
            "SGD Classifier: 28.57%\n"
          ]
        }
      ]
    },
    {
      "cell_type": "markdown",
      "source": [
        "# **Plot the accuracy results (All Features vs Selected Features)**"
      ],
      "metadata": {
        "id": "QbQPxpvyuT3U"
      }
    },
    {
      "cell_type": "code",
      "source": [
        "# Plot the accuracy scores\n",
        "data = {\n",
        "    'Naive Bayes': {'All Features': [list(results_all_features.values())[0]], 'Selected Features': [list(results_selected_features.values())[0]]},\n",
        "    'Decision Tree': {'All Features': [list(results_all_features.values())[1]], 'Selected Features': [list(results_selected_features.values())[1]]},\n",
        "    'Random Forest': {'All Features' :[list(results_all_features.values())[2]], 'Selected Features': [list(results_selected_features.values())[2]]},\n",
        "    'SVM': {'All Features': [list(results_all_features.values())[3]], 'Selected Features': [list(results_selected_features.values())[3]]},\n",
        "    'SGD': {'All Features': [list(results_all_features.values())[4]], 'Selected Features': [list(results_selected_features.values())[4]]}\n",
        "}\n",
        "\n",
        "models1 = list(data.keys())\n",
        "all_features_accuracy = [data[model]['All Features'][0] for model in models1]\n",
        "selected_features_accuracy = [data[model]['Selected Features'][0] for model in models1]\n",
        "\n",
        "x = np.arange(len(models1))\n",
        "\n",
        "fig, ax = plt.subplots(figsize=(10, 6))\n",
        "width = 0.35\n",
        "\n",
        "rects1 = ax.bar(x - width/2, all_features_accuracy, width, label='All Features')\n",
        "rects2 = ax.bar(x + width/2, selected_features_accuracy, width, label='Selected Features')\n",
        "\n",
        "ax.set_xlabel('Models')\n",
        "ax.set_ylabel('Accuracy')\n",
        "ax.set_title('Accuracy by Model and Feature Set')\n",
        "ax.set_xticks(x)\n",
        "ax.set_xticklabels(models1)\n",
        "ax.legend()\n",
        "\n",
        "plt.show()"
      ],
      "metadata": {
        "colab": {
          "base_uri": "https://localhost:8080/",
          "height": 564
        },
        "id": "PVqgs3XZuQU5",
        "outputId": "0264c94f-0f5d-4ba6-8a4e-fc905b3afc60"
      },
      "execution_count": 265,
      "outputs": [
        {
          "output_type": "display_data",
          "data": {
            "text/plain": [
              "<Figure size 1000x600 with 1 Axes>"
            ],
            "image/png": "[encoded data removed]"
          },
          "metadata": {}
        }
      ]
    },
    {
      "cell_type": "markdown",
      "source": [
        "# **All features and Selected features listed**"
      ],
      "metadata": {
        "id": "OtoPuk-9792V"
      }
    },
    {
      "cell_type": "code",
      "source": [
        "print(\"All Featuers:\")\n",
        "print(X.shape)\n",
        "print(X)\n",
        "\n",
        "print(\"\\nSelected Features:\")\n",
        "print(X_selected.shape)\n",
        "print(X_selected)"
      ],
      "metadata": {
        "colab": {
          "base_uri": "https://localhost:8080/"
        },
        "id": "Lxpi_lfN782V",
        "outputId": "e875417b-1417-4f1d-e397-c0235cbd347a"
      },
      "execution_count": 266,
      "outputs": [
        {
          "output_type": "stream",
          "name": "stdout",
          "text": [
            "All Featuers:\n",
            "(452, 6)\n",
            "     Age  SystolicBP  DiastolicBP    BS  BodyTemp  HeartRate\n",
            "0     25         130           80  15.0      98.0         86\n",
            "1     35         140           90  13.0      98.0         70\n",
            "2     29          90           70   8.0     100.0         80\n",
            "3     30         140           85   7.0      98.0         70\n",
            "4     35         120           60   6.1      98.0         76\n",
            "..   ...         ...          ...   ...       ...        ...\n",
            "673   12         100           50   6.4      98.0         70\n",
            "674   15         100           60   6.0      98.0         80\n",
            "703   15         100           49   7.6      98.0         77\n",
            "704   12         100           50   6.0      98.0         70\n",
            "705   21         100           50   6.8      98.0         60\n",
            "\n",
            "[452 rows x 6 columns]\n",
            "\n",
            "Selected Features:\n",
            "(452, 4)\n",
            "     Age  SystolicBP  DiastolicBP    BS\n",
            "0     25         130           80  15.0\n",
            "1     35         140           90  13.0\n",
            "2     29          90           70   8.0\n",
            "3     30         140           85   7.0\n",
            "4     35         120           60   6.1\n",
            "..   ...         ...          ...   ...\n",
            "673   12         100           50   6.4\n",
            "674   15         100           60   6.0\n",
            "703   15         100           49   7.6\n",
            "704   12         100           50   6.0\n",
            "705   21         100           50   6.8\n",
            "\n",
            "[452 rows x 4 columns]\n"
          ]
        }
      ]
    },
    {
      "cell_type": "markdown",
      "source": [
        "# **Decide highest model to use**"
      ],
      "metadata": {
        "id": "dcU7jnC3JwT6"
      }
    },
    {
      "cell_type": "code",
      "source": [
        "from sklearn.metrics import precision_score, recall_score, f1_score\n",
        "highest_model_name = max(results_all_features, key=results_all_features.get)\n",
        "highest_model = models[highest_model_name]\n",
        "print(highest_model)"
      ],
      "metadata": {
        "colab": {
          "base_uri": "https://localhost:8080/"
        },
        "id": "f6Nz45Fn-1kU",
        "outputId": "56f64694-286b-4ac3-95cb-a79b84ec7c21"
      },
      "execution_count": 267,
      "outputs": [
        {
          "output_type": "stream",
          "name": "stdout",
          "text": [
            "DecisionTreeClassifier(random_state=42)\n"
          ]
        }
      ]
    },
    {
      "cell_type": "markdown",
      "source": [
        "# **Ensemble using best-performing model by stacking, adaboost, and bagging on all features**"
      ],
      "metadata": {
        "id": "jg_G5HMNJzAM"
      }
    },
    {
      "cell_type": "code",
      "source": [
        "# Train and evaluate the highest performing model with all features\n",
        "model_o = highest_model.fit(X_train, y_train)\n",
        "predictions_highest = highest_model.predict(X_test)\n",
        "accuracy_highest = accuracy_score(y_test, predictions_highest)\n",
        "\n",
        "# Stacking Classifier\n",
        "stacking_model = StackingClassifier(estimators=[('highest_model', highest_model)], final_estimator=RandomForestClassifier())\n",
        "model_s = stacking_model.fit(X_train, y_train)\n",
        "stacking_accuracy = stacking_model.score(X_test, y_test)\n",
        "\n",
        "# AdaBoost Classifier\n",
        "adaboost_model = AdaBoostClassifier(estimator=highest_model, n_estimators = 500)\n",
        "model_a = adaboost_model.fit(X_train, y_train)\n",
        "adaboost_accuracy = adaboost_model.score(X_test, y_test)\n",
        "\n",
        "# Bagging Classifier\n",
        "bagging_model = BaggingClassifier(estimator=highest_model, n_estimators = 500)\n",
        "model_b = bagging_model.fit(X_train, y_train)\n",
        "bagging_accuracy = bagging_model.score(X_test, y_test)\n",
        "\n",
        "# Plotting\n",
        "models_accuracy = {\n",
        "    \"Original\": accuracy_highest,\n",
        "    \"Stacking\": stacking_accuracy,\n",
        "    \"AdaBoost\": adaboost_accuracy,\n",
        "    \"Bagging\": bagging_accuracy\n",
        "}\n",
        "\n",
        "data = {\n",
        "    'Original': accuracy_highest, 'Stacking': stacking_accuracy, 'AdaBoost': adaboost_accuracy, 'Bagging': bagging_accuracy\n",
        "}\n",
        "data_one = data\n",
        "types = list(data.keys())\n",
        "values = list(data.values())\n",
        "plt.bar(types, values)\n",
        "plt.show()\n",
        "\n",
        "# Print summary of all scores\n",
        "print(\"Summary of Model Accuracies:\")\n",
        "for model, accuracy in models_accuracy.items():\n",
        "    print(f\"{model}: {accuracy:.4f}\")\n",
        "\n",
        "# Assuming y_true are true labels and y_pred are predicted labels\n",
        "# Compute precision\n",
        "y_pred = model_o.predict(X_test)\n",
        "precision11 = precision_score(y_test, y_pred, average='weighted')\n",
        "recall11 = recall_score(y_test, y_pred, average='weighted')\n",
        "f111 = f1_score(y_test, y_pred, average='weighted')\n",
        "print(\"Precision:\", precision11)\n",
        "print(\"Recall:\", recall11)\n",
        "print(\"F1 Score:\", f111)\n",
        "y_pred = model_s.predict(X_test)\n",
        "precision12 = precision_score(y_test, y_pred, average='weighted')\n",
        "recall12 = recall_score(y_test, y_pred, average='weighted')\n",
        "f112 = f1_score(y_test, y_pred, average='weighted')\n",
        "print(\"Precision:\", precision12)\n",
        "print(\"Recall:\", recall12)\n",
        "print(\"F1 Score:\", f112)\n",
        "y_pred = model_a.predict(X_test)\n",
        "precision13 = precision_score(y_test, y_pred, average='weighted')\n",
        "recall13 = recall_score(y_test, y_pred, average='weighted')\n",
        "f113 = f1_score(y_test, y_pred, average='weighted')\n",
        "print(\"Precision:\", precision13)\n",
        "print(\"Recall:\", recall13)\n",
        "print(\"F1 Score:\", f113)\n",
        "y_pred = model_b.predict(X_test)\n",
        "precision14 = precision_score(y_test, y_pred, average='weighted')\n",
        "recall14 = recall_score(y_test, y_pred, average='weighted')\n",
        "f114 = f1_score(y_test, y_pred, average='weighted')\n",
        "print(\"Precision:\", precision14)\n",
        "print(\"Recall:\", recall14)\n",
        "print(\"F1 Score:\", f114)\n",
        "\n",
        "metr1 = {\n",
        "    'Original': {\n",
        "        'Precision': precision11,\n",
        "        'Recall': recall11,\n",
        "        'F1': f111\n",
        "    },\n",
        "    'Stacking': {\n",
        "        'Precision': precision12,\n",
        "        'Recall': recall12,\n",
        "        'F1': f112\n",
        "    },\n",
        "    'AdaBoost': {\n",
        "        'Precision': precision13,\n",
        "        'Recall': recall13,\n",
        "        'F1': f113\n",
        "    },\n",
        "    'Bagging': {\n",
        "        'Precision': precision14,\n",
        "        'Recall': recall14,\n",
        "        'F1': f114\n",
        "    }\n",
        "}\n",
        "for line, metrics in metr1.items():\n",
        "    print(line + \":\")\n",
        "    for metric, value in metrics.items():\n",
        "        print(f\"  {metric}: {value}\")\n",
        "    if line == 'Bagging':  # Add a newline after printing metrics for 'Bagging'\n",
        "        print()  # Print a newline character"
      ],
      "metadata": {
        "colab": {
          "base_uri": "https://localhost:8080/",
          "height": 1000
        },
        "id": "Bp504kuL-5QO",
        "outputId": "aac36112-08b0-4726-f49f-1ed2dff62a1a"
      },
      "execution_count": 268,
      "outputs": [
        {
          "output_type": "display_data",
          "data": {
            "text/plain": [
              "<Figure size 640x480 with 1 Axes>"
            ],
            "image/png": "[encoded data removed]"
          },
          "metadata": {}
        },
        {
          "output_type": "stream",
          "name": "stdout",
          "text": [
            "Summary of Model Accuracies:\n",
            "Original: 0.6813\n",
            "Stacking: 0.6374\n",
            "AdaBoost: 0.6374\n",
            "Bagging: 0.6703\n",
            "Precision: 0.6627144785039522\n",
            "Recall: 0.6813186813186813\n",
            "F1 Score: 0.663735585681287\n",
            "Precision: 0.7481437481437482\n",
            "Recall: 0.6373626373626373\n",
            "F1 Score: 0.5449503952177749\n",
            "Precision: 0.6118647458983593\n",
            "Recall: 0.6373626373626373\n",
            "F1 Score: 0.6124594271192838\n",
            "Precision: 0.6468203927220321\n",
            "Recall: 0.6703296703296703\n",
            "F1 Score: 0.641334482510953\n",
            "Original:\n",
            "  Precision: 0.6627144785039522\n",
            "  Recall: 0.6813186813186813\n",
            "  F1: 0.663735585681287\n",
            "Stacking:\n",
            "  Precision: 0.7481437481437482\n",
            "  Recall: 0.6373626373626373\n",
            "  F1: 0.5449503952177749\n",
            "AdaBoost:\n",
            "  Precision: 0.6118647458983593\n",
            "  Recall: 0.6373626373626373\n",
            "  F1: 0.6124594271192838\n",
            "Bagging:\n",
            "  Precision: 0.6468203927220321\n",
            "  Recall: 0.6703296703296703\n",
            "  F1: 0.641334482510953\n",
            "\n"
          ]
        }
      ]
    },
    {
      "cell_type": "markdown",
      "source": [
        "# **Ensemble using best-performing model by stacking, adaboost, and bagging on selected features**"
      ],
      "metadata": {
        "id": "uPebu5wsxQSW"
      }
    },
    {
      "cell_type": "code",
      "source": [
        "highest_model_name = max(results_all_features, key=results_all_features.get)\n",
        "highest_model = models[highest_model_name]\n",
        "print(highest_model)\n",
        "\n",
        "# Train and evaluate the highest performing model with selected features\n",
        "model_o = highest_model.fit(X_train_st, y_train_st)\n",
        "predictions_highest = highest_model.predict(X_test_st)\n",
        "accuracy_highest = accuracy_score(y_test_st, predictions_highest)\n",
        "\n",
        "# Stacking Classifier\n",
        "stacking_model = StackingClassifier(estimators=[('highest_model', highest_model)], final_estimator=RandomForestClassifier())\n",
        "model_s = stacking_model.fit(X_train_st, y_train_st)\n",
        "stacking_accuracy = stacking_model.score(X_test_st, y_test_st)\n",
        "\n",
        "# AdaBoost Classifier\n",
        "adaboost_model = AdaBoostClassifier(estimator=highest_model, n_estimators = 500)\n",
        "model_a = adaboost_model.fit(X_train_st, y_train_st)\n",
        "adaboost_accuracy = adaboost_model.score(X_test_st, y_test_st)\n",
        "\n",
        "# Bagging Classifier\n",
        "bagging_model = BaggingClassifier(estimator=highest_model, n_estimators = 500)\n",
        "model_b = bagging_model.fit(X_train_st, y_train_st)\n",
        "bagging_accuracy = bagging_model.score(X_test_st, y_test_st)\n",
        "\n",
        "# Plotting\n",
        "models_accuracy = {\n",
        "    \"Original\": accuracy_highest,\n",
        "    \"Stacking\": stacking_accuracy,\n",
        "    \"AdaBoost\": adaboost_accuracy,\n",
        "    \"Bagging\": bagging_accuracy\n",
        "}\n",
        "\n",
        "data = {\n",
        "    'Original': accuracy_highest, 'Stacking': stacking_accuracy, 'AdaBoost': adaboost_accuracy, 'Bagging': bagging_accuracy\n",
        "}\n",
        "data_two = data\n",
        "types = list(data.keys())\n",
        "values = list(data.values())\n",
        "plt.bar(types, values)\n",
        "plt.show()\n",
        "\n",
        "# Print summary of all scores\n",
        "print(\"Summary of Model Accuracies:\")\n",
        "for model, accuracy in models_accuracy.items():\n",
        "    print(f\"{model}: {accuracy:.4f}\")\n",
        "\n",
        "# Assuming y_true are true labels and y_pred are predicted labels\n",
        "# Compute precision\n",
        "y_pred = model_o.predict(X_test_st)\n",
        "precision21 = precision_score(y_test_st, y_pred, average='weighted')\n",
        "recall21 = recall_score(y_test_st, y_pred, average='weighted')\n",
        "f121 = f1_score(y_test_st, y_pred, average='weighted')\n",
        "print(\"Precision:\", precision21)\n",
        "print(\"Recall:\", recall21)\n",
        "print(\"F1 Score:\", f121)\n",
        "y_pred = model_s.predict(X_test_st)\n",
        "precision22 = precision_score(y_test_st, y_pred, average='weighted')\n",
        "recall22 = recall_score(y_test_st, y_pred, average='weighted')\n",
        "f122 = f1_score(y_test_st, y_pred, average='weighted')\n",
        "print(\"Precision:\", precision22)\n",
        "print(\"Recall:\", recall22)\n",
        "print(\"F1 Score:\", f122)\n",
        "y_pred = model_a.predict(X_test_st)\n",
        "precision23 = precision_score(y_test_st, y_pred, average='weighted')\n",
        "recall23 = recall_score(y_test_st, y_pred, average='weighted')\n",
        "f123 = f1_score(y_test_st, y_pred, average='weighted')\n",
        "print(\"Precision:\", precision23)\n",
        "print(\"Recall:\", recall23)\n",
        "print(\"F1 Score:\", f123)\n",
        "y_pred = model_b.predict(X_test_st)\n",
        "precision24 = precision_score(y_test_st, y_pred, average='weighted')\n",
        "recall24 = recall_score(y_test_st, y_pred, average='weighted')\n",
        "f124 = f1_score(y_test_st, y_pred, average='weighted')\n",
        "print(\"Precision:\", precision24)\n",
        "print(\"Recall:\", recall24)\n",
        "print(\"F1 Score:\", f124)\n",
        "\n",
        "metr2 = {\n",
        "    'Original': {\n",
        "        'Precision': precision21,\n",
        "        'Recall': recall21,\n",
        "        'F1': f121\n",
        "    },\n",
        "    'Stacking': {\n",
        "        'Precision': precision22,\n",
        "        'Recall': recall22,\n",
        "        'F1': f122\n",
        "    },\n",
        "    'AdaBoost': {\n",
        "        'Precision': precision23,\n",
        "        'Recall': recall23,\n",
        "        'F1': f123\n",
        "    },\n",
        "    'Bagging': {\n",
        "        'Precision': precision24,\n",
        "        'Recall': recall24,\n",
        "        'F1': f124\n",
        "    }\n",
        "}\n",
        "for line, metrics in metr2.items():\n",
        "    print(line + \":\")\n",
        "    for metric, value in metrics.items():\n",
        "        print(f\"  {metric}: {value}\")\n",
        "    if line == 'Bagging':  # Add a newline after printing metrics for 'Bagging'\n",
        "        print()  # Print a newline character"
      ],
      "metadata": {
        "colab": {
          "base_uri": "https://localhost:8080/",
          "height": 1000
        },
        "id": "smG6JyghxMxs",
        "outputId": "dbb9df62-abec-4b99-f822-6c54d7c63e9b"
      },
      "execution_count": 269,
      "outputs": [
        {
          "output_type": "stream",
          "name": "stdout",
          "text": [
            "DecisionTreeClassifier(random_state=42)\n"
          ]
        },
        {
          "output_type": "display_data",
          "data": {
            "text/plain": [
              "<Figure size 640x480 with 1 Axes>"
            ],
            "image/png": "[encoded data removed]"
          },
          "metadata": {}
        },
        {
          "output_type": "stream",
          "name": "stdout",
          "text": [
            "Summary of Model Accuracies:\n",
            "Original: 0.6264\n",
            "Stacking: 0.6264\n",
            "AdaBoost: 0.6154\n",
            "Bagging: 0.6923\n",
            "Precision: 0.6041033041033042\n",
            "Recall: 0.6263736263736264\n",
            "F1 Score: 0.6045460697235632\n",
            "Precision: 0.4468591110382155\n",
            "Recall: 0.6263736263736264\n",
            "F1 Score: 0.5214960478118372\n",
            "Precision: 0.590501532010966\n",
            "Recall: 0.6153846153846154\n",
            "F1 Score: 0.5981155686418844\n",
            "Precision: 0.6750771158665896\n",
            "Recall: 0.6923076923076923\n",
            "F1 Score: 0.6725335104455985\n",
            "Original:\n",
            "  Precision: 0.6041033041033042\n",
            "  Recall: 0.6263736263736264\n",
            "  F1: 0.6045460697235632\n",
            "Stacking:\n",
            "  Precision: 0.4468591110382155\n",
            "  Recall: 0.6263736263736264\n",
            "  F1: 0.5214960478118372\n",
            "AdaBoost:\n",
            "  Precision: 0.590501532010966\n",
            "  Recall: 0.6153846153846154\n",
            "  F1: 0.5981155686418844\n",
            "Bagging:\n",
            "  Precision: 0.6750771158665896\n",
            "  Recall: 0.6923076923076923\n",
            "  F1: 0.6725335104455985\n",
            "\n"
          ]
        },
        {
          "output_type": "stream",
          "name": "stderr",
          "text": [
            "/usr/local/lib/python3.10/dist-packages/sklearn/metrics/_classification.py:1344: UndefinedMetricWarning: Precision is ill-defined and being set to 0.0 in labels with no predicted samples. Use `zero_division` parameter to control this behavior.\n",
            "  _warn_prf(average, modifier, msg_start, len(result))\n"
          ]
        }
      ]
    },
    {
      "cell_type": "markdown",
      "source": [
        "# **Ensemble using best-performing model by stacking, adaboost, and bagging on no multicollinearity and outliers. FINAL MODEL**"
      ],
      "metadata": {
        "id": "qRQvmL3-U0uH"
      }
    },
    {
      "cell_type": "code",
      "source": [
        "from statsmodels.stats.outliers_influence import variance_inflation_factor\n",
        "\n",
        "X = letreg_dup[['Age', 'SystolicBP', 'DiastolicBP', 'BS']]\n",
        "y = letreg_dup['RiskLevel']\n",
        "\n",
        "print(list(X.columns))\n",
        "feature_names = list(X.columns)\n",
        "\n",
        "df = pd.DataFrame(X, columns=feature_names)\n",
        "df['RiskLevel'] = y  # Add target column to the DataFrame\n",
        "# Remove outliers\n",
        "Q1 = df.drop(columns=['RiskLevel']).quantile(0.25)\n",
        "Q3 = df.drop(columns=['RiskLevel']).quantile(0.75)\n",
        "IQR = Q3 - Q1\n",
        "df_no_outliers = df[~((df.drop(columns=['RiskLevel']) < (Q1 - 1.5 * IQR)) | (df.drop(columns=['RiskLevel']) > (Q3 + 1.5 * IQR))).any(axis=1)]\n",
        "\n",
        "# Remove multicollinearity using VIF\n",
        "def calculate_vif(X, thresh=7.0):\n",
        "    variables = list(range(X.shape[1]))\n",
        "    dropped = True\n",
        "    while dropped:\n",
        "        dropped = False\n",
        "        vif = [variance_inflation_factor(X.iloc[:, variables].values, ix) for ix in range(X.iloc[:, variables].shape[1])]\n",
        "        max_vif = max(vif)\n",
        "        if max_vif > thresh:\n",
        "            maxloc = vif.index(max_vif)\n",
        "            print(f\"Dropping {X.iloc[:, variables].columns[maxloc]} with VIF={max_vif}\")\n",
        "            del variables[maxloc]\n",
        "            dropped = True\n",
        "    print(f'Remaining variables: {X.columns[variables]}')\n",
        "    return X.iloc[:, variables]\n",
        "\n",
        "X_no_multicollinearity = calculate_vif(df_no_outliers.drop(columns=['RiskLevel']))\n",
        "\n",
        "# Update RiskLevel labels after removing outliers and multicollinearity\n",
        "y_no_outliers_multicollinearity = df_no_outliers['RiskLevel']\n",
        "X_no_outliers_multicollinearity = df_no_outliers.drop(columns=['RiskLevel'])\n",
        "\n",
        "# Split the data into training and testing sets\n",
        "X_train, X_test, y_train, y_test = train_test_split(X_no_outliers_multicollinearity, y_no_outliers_multicollinearity, test_size=0.2, random_state=42)\n",
        "\n",
        "threshold = 0.5\n",
        "\n",
        "highest_model_name = max(results_all_features, key=results_all_features.get)\n",
        "highest_model = models[highest_model_name]\n",
        "print(highest_model)\n",
        "\n",
        "\n",
        "# Train and evaluate the highest performing model with RFE-selected features\n",
        "model_o = highest_model.fit(X_train, y_train)\n",
        "predictions_highest = highest_model.predict(X_test)\n",
        "accuracy_highest = accuracy_score(y_test, predictions_highest)\n",
        "\n",
        "# Apply ensemble techniques to the highest performing model\n",
        "# Stacking Classifier\n",
        "stacking_model = StackingClassifier(estimators=[('highest_model', highest_model)], final_estimator=RandomForestClassifier())\n",
        "model_s = stacking_model.fit(X_train, y_train)\n",
        "stacking_accuracy = stacking_model.score(X_test, y_test)\n",
        "\n",
        "# AdaBoost Classifier\n",
        "adaboost_model = AdaBoostClassifier(estimator=highest_model, n_estimators = 500)\n",
        "model_a = adaboost_model.fit(X_train, y_train)\n",
        "adaboost_accuracy = adaboost_model.score(X_test, y_test)\n",
        "\n",
        "# Bagging Classifier\n",
        "bagging_model = BaggingClassifier(estimator=highest_model, n_estimators = 500)\n",
        "model_b = bagging_model.fit(X_train, y_train)\n",
        "bagging_accuracy = bagging_model.score(X_test, y_test)\n",
        "\n",
        "# Plotting\n",
        "models_accuracy = {\n",
        "    \"Original\": accuracy_highest,\n",
        "    \"Stacking\": stacking_accuracy,\n",
        "    \"AdaBoost\": adaboost_accuracy,\n",
        "    \"Bagging\": bagging_accuracy\n",
        "}\n",
        "data = {\n",
        "    'Original': accuracy_highest, 'Stacking': stacking_accuracy, 'AdaBoost': adaboost_accuracy, 'Bagging': bagging_accuracy\n",
        "}\n",
        "data_three = data\n",
        "types = list(data.keys())\n",
        "values = list(data.values())\n",
        "plt.bar(types, values)\n",
        "plt.show()\n",
        "\n",
        "# Print summary of all scores\n",
        "print(\"Summary of Model Accuracies:\")\n",
        "for model, accuracy in models_accuracy.items():\n",
        "    print(f\"{model}: {accuracy*100:.2f}%\")\n",
        "\n",
        "# Assuming y_true are true labels and y_pred are predicted labels\n",
        "# Compute precision\n",
        "y_pred = model_o.predict(X_test)\n",
        "precision31 = precision_score(y_test, y_pred, average='weighted')\n",
        "recall31 = recall_score(y_test, y_pred, average='weighted')\n",
        "f131 = f1_score(y_test, y_pred, average='weighted')\n",
        "print(\"Precision:\", precision31)\n",
        "print(\"Recall:\", recall31)\n",
        "print(\"F1 Score:\", f131)\n",
        "y_pred = model_s.predict(X_test)\n",
        "precision32 = precision_score(y_test, y_pred, average='weighted')\n",
        "recall32 = recall_score(y_test, y_pred, average='weighted')\n",
        "f132 = f1_score(y_test, y_pred, average='weighted')\n",
        "print(\"Precision:\", precision32)\n",
        "print(\"Recall:\", recall32)\n",
        "print(\"F1 Score:\", f132)\n",
        "y_pred = model_a.predict(X_test)\n",
        "precision33 = precision_score(y_test, y_pred, average='weighted')\n",
        "recall33 = recall_score(y_test, y_pred, average='weighted')\n",
        "f133 = f1_score(y_test, y_pred, average='weighted')\n",
        "print(\"Precision:\", precision33)\n",
        "print(\"Recall:\", recall33)\n",
        "print(\"F1 Score:\", f133)\n",
        "y_pred = model_b.predict(X_test)\n",
        "precision34 = precision_score(y_test, y_pred, average='weighted')\n",
        "recall34 = recall_score(y_test, y_pred, average='weighted')\n",
        "f134 = f1_score(y_test, y_pred, average='weighted')\n",
        "print(\"Precision:\", precision34)\n",
        "print(\"Recall:\", recall34)\n",
        "print(\"F1 Score:\", f134)\n",
        "\n",
        "metr3 = {\n",
        "    'Original': {\n",
        "        'Precision': precision31,\n",
        "        'Recall': recall31,\n",
        "        'F1': f131\n",
        "    },\n",
        "    'Stacking': {\n",
        "        'Precision': precision32,\n",
        "        'Recall': recall32,\n",
        "        'F1': f132\n",
        "    },\n",
        "    'AdaBoost': {\n",
        "        'Precision': precision33,\n",
        "        'Recall': recall33,\n",
        "        'F1': f133\n",
        "    },\n",
        "    'Bagging': {\n",
        "        'Precision': precision34,\n",
        "        'Recall': recall34,\n",
        "        'F1': f134\n",
        "    },\n",
        "}\n",
        "for line, metrics in metr3.items():\n",
        "    print(line + \":\")\n",
        "    for metric, value in metrics.items():\n",
        "        print(f\"  {metric}: {value}\")\n",
        "    if line == 'Bagging':  # Add a newline after printing metrics for 'Bagging'\n",
        "        print()  # Print a newline character"
      ],
      "metadata": {
        "id": "s_AhTvclSj1C",
        "colab": {
          "base_uri": "https://localhost:8080/",
          "height": 1000
        },
        "outputId": "c1264923-cc09-4e6a-ca06-d557ccf7340a"
      },
      "execution_count": 270,
      "outputs": [
        {
          "output_type": "stream",
          "name": "stdout",
          "text": [
            "['Age', 'SystolicBP', 'DiastolicBP', 'BS']\n",
            "Dropping SystolicBP with VIF=93.04814192474493\n",
            "Dropping DiastolicBP with VIF=31.850067581410347\n",
            "Remaining variables: Index(['Age', 'BS'], dtype='object')\n",
            "DecisionTreeClassifier(random_state=42)\n"
          ]
        },
        {
          "output_type": "display_data",
          "data": {
            "text/plain": [
              "<Figure size 640x480 with 1 Axes>"
            ],
            "image/png": "[encoded data removed]"
          },
          "metadata": {}
        },
        {
          "output_type": "stream",
          "name": "stdout",
          "text": [
            "Summary of Model Accuracies:\n",
            "Original: 46.58%\n",
            "Stacking: 50.68%\n",
            "AdaBoost: 49.32%\n",
            "Bagging: 53.42%\n",
            "Precision: 0.4301696020874103\n",
            "Recall: 0.4657534246575342\n",
            "F1 Score: 0.4413098197063566\n",
            "Precision: 0.330404660683357\n",
            "Recall: 0.5068493150684932\n",
            "F1 Score: 0.39633607853607444\n",
            "Precision: 0.4516087926091112\n",
            "Recall: 0.4931506849315068\n",
            "F1 Score: 0.4635142844873596\n",
            "Precision: 0.5024701326071188\n",
            "Recall: 0.5342465753424658\n",
            "F1 Score: 0.4964206356789812\n",
            "Original:\n",
            "  Precision: 0.4301696020874103\n",
            "  Recall: 0.4657534246575342\n",
            "  F1: 0.4413098197063566\n",
            "Stacking:\n",
            "  Precision: 0.330404660683357\n",
            "  Recall: 0.5068493150684932\n",
            "  F1: 0.39633607853607444\n",
            "AdaBoost:\n",
            "  Precision: 0.4516087926091112\n",
            "  Recall: 0.4931506849315068\n",
            "  F1: 0.4635142844873596\n",
            "Bagging:\n",
            "  Precision: 0.5024701326071188\n",
            "  Recall: 0.5342465753424658\n",
            "  F1: 0.4964206356789812\n",
            "\n"
          ]
        },
        {
          "output_type": "stream",
          "name": "stderr",
          "text": [
            "/usr/local/lib/python3.10/dist-packages/sklearn/metrics/_classification.py:1344: UndefinedMetricWarning: Precision is ill-defined and being set to 0.0 in labels with no predicted samples. Use `zero_division` parameter to control this behavior.\n",
            "  _warn_prf(average, modifier, msg_start, len(result))\n"
          ]
        }
      ]
    },
    {
      "cell_type": "markdown",
      "source": [
        "# **Results and Plot**"
      ],
      "metadata": {
        "id": "tfH4aOvaWxqy"
      }
    },
    {
      "cell_type": "code",
      "source": [
        "data_one, data_two, data_three, metr1, metr2, metr3\n",
        "fig, ax = plt.subplots(figsize=(10, 6))\n",
        "types = list(data_one.keys())\n",
        "values = list(data_one.values())\n",
        "types1 = list(data_two.keys())\n",
        "values1 = list(data_two.values())\n",
        "types2 = list(data_three.keys())\n",
        "values2 = list(data_three.values())\n",
        "colors = {'All':'blue', 'Selected':'orange', 'No Multi':'green'}\n",
        "labels = list(colors.keys())\n",
        "handles = [plt.Rectangle((0,0),1,1, color=colors[label]) for label in labels]\n",
        "plt.legend(handles, labels)\n",
        "plt.bar(types, values)\n",
        "plt.bar(types1, values1)\n",
        "plt.bar(types2, values2)\n",
        "plt.show()\n",
        "\n",
        "print('All Features',data_one)\n",
        "print('-----------------------------------------------')\n",
        "print('Selected Features',data_two)\n",
        "print('-----------------------------------------------')\n",
        "print('No Multicollinearity',data_three)\n",
        "print('+++++++++++++++++++++++++++++++++++++++++++++++')\n",
        "print('All Features:')\n",
        "for line, metrics in metr1.items():\n",
        "    print(line + \":\")\n",
        "    for metric, value in metrics.items():\n",
        "        print(f\"  {metric}: {value}\")\n",
        "    if line == 'Bagging':  # Add a newline after printing metrics for 'Bagging'\n",
        "        print()  # Print a newline character\n",
        "print('-----------------------------------------------')\n",
        "print('Selected Features:')\n",
        "for line, metrics in metr2.items():\n",
        "    print(line + \":\")\n",
        "    for metric, value in metrics.items():\n",
        "        print(f\"  {metric}: {value}\")\n",
        "    if line == 'Bagging':  # Add a newline after printing metrics for 'Bagging'\n",
        "        print()  # Print a newline character\n",
        "print('-----------------------------------------------')\n",
        "print('No Multicollinearity:')\n",
        "for line, metrics in metr3.items():\n",
        "    print(line + \":\")\n",
        "    for metric, value in metrics.items():\n",
        "        print(f\"  {metric}: {value}\")\n",
        "    if line == 'Bagging':  # Add a newline after printing metrics for 'Bagging'\n",
        "        print()  # Print a newline character"
      ],
      "metadata": {
        "colab": {
          "base_uri": "https://localhost:8080/",
          "height": 1000
        },
        "id": "HzPzf71IzG-3",
        "outputId": "3e565af0-6a64-43e1-afce-a043e8647c71"
      },
      "execution_count": 274,
      "outputs": [
        {
          "output_type": "display_data",
          "data": {
            "text/plain": [
              "<Figure size 1000x600 with 1 Axes>"
            ],
            "image/png": "[encoded data removed]"
          },
          "metadata": {}
        },
        {
          "output_type": "stream",
          "name": "stdout",
          "text": [
            "All Features {'Original': 0.6813186813186813, 'Stacking': 0.6373626373626373, 'AdaBoost': 0.6373626373626373, 'Bagging': 0.6703296703296703}\n",
            "-----------------------------------------------\n",
            "Selected Features {'Original': 0.6263736263736264, 'Stacking': 0.6263736263736264, 'AdaBoost': 0.6153846153846154, 'Bagging': 0.6923076923076923}\n",
            "-----------------------------------------------\n",
            "No Multicollinearity {'Original': 0.4657534246575342, 'Stacking': 0.5068493150684932, 'AdaBoost': 0.4931506849315068, 'Bagging': 0.5342465753424658}\n",
            "+++++++++++++++++++++++++++++++++++++++++++++++\n",
            "All Features:\n",
            "Original:\n",
            "  Precision: 0.6627144785039522\n",
            "  Recall: 0.6813186813186813\n",
            "  F1: 0.663735585681287\n",
            "Stacking:\n",
            "  Precision: 0.7481437481437482\n",
            "  Recall: 0.6373626373626373\n",
            "  F1: 0.5449503952177749\n",
            "AdaBoost:\n",
            "  Precision: 0.6118647458983593\n",
            "  Recall: 0.6373626373626373\n",
            "  F1: 0.6124594271192838\n",
            "Bagging:\n",
            "  Precision: 0.6468203927220321\n",
            "  Recall: 0.6703296703296703\n",
            "  F1: 0.641334482510953\n",
            "\n",
            "-----------------------------------------------\n",
            "Selected Features:\n",
            "Original:\n",
            "  Precision: 0.6041033041033042\n",
            "  Recall: 0.6263736263736264\n",
            "  F1: 0.6045460697235632\n",
            "Stacking:\n",
            "  Precision: 0.4468591110382155\n",
            "  Recall: 0.6263736263736264\n",
            "  F1: 0.5214960478118372\n",
            "AdaBoost:\n",
            "  Precision: 0.590501532010966\n",
            "  Recall: 0.6153846153846154\n",
            "  F1: 0.5981155686418844\n",
            "Bagging:\n",
            "  Precision: 0.6750771158665896\n",
            "  Recall: 0.6923076923076923\n",
            "  F1: 0.6725335104455985\n",
            "\n",
            "-----------------------------------------------\n",
            "No Multicollinearity:\n",
            "Original:\n",
            "  Precision: 0.4301696020874103\n",
            "  Recall: 0.4657534246575342\n",
            "  F1: 0.4413098197063566\n",
            "Stacking:\n",
            "  Precision: 0.330404660683357\n",
            "  Recall: 0.5068493150684932\n",
            "  F1: 0.39633607853607444\n",
            "AdaBoost:\n",
            "  Precision: 0.4516087926091112\n",
            "  Recall: 0.4931506849315068\n",
            "  F1: 0.4635142844873596\n",
            "Bagging:\n",
            "  Precision: 0.5024701326071188\n",
            "  Recall: 0.5342465753424658\n",
            "  F1: 0.4964206356789812\n",
            "\n"
          ]
        }
      ]
    }
  ]
}